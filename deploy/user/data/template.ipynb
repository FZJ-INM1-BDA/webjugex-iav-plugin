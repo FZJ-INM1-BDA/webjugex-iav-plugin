{
 "cells": [
  {
   "cell_type": "code",
   "execution_count": null,
   "metadata": {},
   "outputs": [],
   "source": [
    "!pip install pyjugex\n",
    "!pip install ebrains-atlascore"
   ]
  },
  {
   "cell_type": "code",
   "execution_count": 3,
   "metadata": {},
   "outputs": [],
   "source": [
    "from pyjugex import PyjugexAnalysis\n",
    "import nibabel as nib\n",
    "import pyjugex\n",
    "import ebrains_atlascore"
   ]
  },
  {
   "cell_type": "markdown",
   "metadata": {},
   "source": [
    "Parameters selected by you:"
   ]
  },
  {
   "cell_type": "code",
   "execution_count": null,
   "metadata": {},
   "outputs": [],
   "source": [
    "Area1 = $AREA1$\n",
    "Area2 = $AREA2$\n",
    "genelist = $GENELIST$\n",
    "threshold = $THRESHOLD$\n",
    "n_rep = $REPS$\n"
   ]
  },
  {
   "cell_type": "code",
   "execution_count": null,
   "metadata": {},
   "outputs": [],
   "source": [
    "roi1_fname = 'roi1.nii.gz'\n",
    "roi2_fname = 'roi2.nii.gz'"
   ]
  },
  {
   "cell_type": "code",
   "execution_count": null,
   "metadata": {},
   "outputs": [],
   "source": [
    "hoc1_body = {\n",
    "  \"areas\": $$AREA1$$,\n",
    "  \"threshold\": 0.2\n",
    "}\n",
    "with pyjugex.util.get_pmap(url=f'{pmap_service_url}/multimerge_v2', json=hoc1_body) as resp, open(f'./{roi1_fname}', 'wb') as out_file:\n",
    "    out_file.write(resp.content)"
   ]
  },
  {
   "cell_type": "code",
   "execution_count": null,
   "metadata": {},
   "outputs": [],
   "source": [
    "hoc2_body = {\n",
    "  \"areas\": $$AREA2$$,\n",
    "  \"threshold\": 0.2\n",
    "}\n",
    "with pyjugex.util.get_pmap(url=f'{pmap_service_url}/multimerge_v2', json=hoc2_body) as resp, open(f'./{roi2_fname}', 'wb') as out_file:\n",
    "    out_file.write(resp.content)"
   ]
  },
  {
   "cell_type": "code",
   "execution_count": null,
   "metadata": {},
   "outputs": [],
   "source": [
    "hoc1_nii = nib.load(f'./{roi1_fname}')\n",
    "hoc2_nii = nib.load(f'./{roi2_fname}')\n",
    "\n",
    "gene_list=$$GENELIST$$\n",
    "n_rep = 1000"
   ]
  },
  {
   "cell_type": "code",
   "execution_count": null,
   "metadata": {},
   "outputs": [],
   "source": [
    "analysis = PyjugexAnalysis(\n",
    "  n_rep=1000,\n",
    "  gene_list=gene_list,\n",
    "  roi1 = hoc1_nii,\n",
    "  roi2 = hoc2_nii\n",
    ")"
   ]
  },
  {
   "cell_type": "code",
   "execution_count": null,
   "metadata": {},
   "outputs": [],
   "source": [
    "analysis.differential_analysis() # Go grab a coffee"
   ]
  },
  {
   "cell_type": "code",
   "execution_count": null,
   "metadata": {},
   "outputs": [],
   "source": [
    "print(analysis.anova.result)"
   ]
  }
 ],
 "metadata": {
  "kernelspec": {
   "display_name": "Python 3",
   "language": "python",
   "name": "python3"
  },
  "language_info": {
   "codemirror_mode": {
    "name": "ipython",
    "version": 3
   },
   "file_extension": ".py",
   "mimetype": "text/x-python",
   "name": "python",
   "nbconvert_exporter": "python",
   "pygments_lexer": "ipython3",
   "version": "3.8.1"
  }
 },
 "nbformat": 4,
 "nbformat_minor": 4
}
