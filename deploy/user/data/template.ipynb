{
 "cells": [
  {
   "cell_type": "markdown",
   "metadata": {},
   "source": [
    "Install necessary python modules"
   ]
  },
  {
   "cell_type": "code",
   "execution_count": null,
   "metadata": {},
   "outputs": [],
   "source": [
    "!pip install pyjugex\n",
    "!pip install nibabel\n",
    "!pip install ebrains-atlascore"
   ]
  },
  {
   "cell_type": "markdown",
   "metadata": {},
   "source": [
    "Import the modules"
   ]
  },
  {
   "cell_type": "code",
   "execution_count": 2,
   "metadata": {},
   "outputs": [],
   "source": [
    "from pyjugex import PyjugexAnalysis\n",
    "import nibabel as nib\n",
    "import pyjugex\n",
    "import ebrains_atlascore\n",
    "import numpy"
   ]
  },
  {
   "cell_type": "markdown",
   "metadata": {},
   "source": [
    "Set up function to merge regions of interest"
   ]
  },
  {
   "cell_type": "code",
   "execution_count": 5,
   "metadata": {},
   "outputs": [],
   "source": [
    "# Apply a threshold to an propability map\n",
    "def threshold_function(image_data, threshold):\n",
    "    image_data[numpy.where(image_data < float(threshold))] = 0\n",
    "    return image_data\n",
    "\n",
    "# Merge a list of propability maps into one region of interest\n",
    "def merge_list(areaList, threshold_list):\n",
    "    combined_mask = 0\n",
    "    \n",
    "    for area_with_threshold in zip(areaList, threshold_list):\n",
    "        area = area_with_threshold[0]\n",
    "        threshold = area_with_threshold[1]\n",
    "        \n",
    "        image_mask = threshold_function(area.data, threshold) != 0\n",
    "\n",
    "        combined_mask = numpy.logical_or(combined_mask, image_mask)\n",
    "    \n",
    "    return combined_mask"
   ]
  },
  {
   "cell_type": "markdown",
   "metadata": {},
   "source": [
    "Parameters selected by you in webJuGEx:"
   ]
  },
  {
   "cell_type": "code",
   "execution_count": 4,
   "metadata": {},
   "outputs": [
    {
     "ename": "SyntaxError",
     "evalue": "invalid syntax (<ipython-input-4-f682477b2401>, line 1)",
     "output_type": "error",
     "traceback": [
      "\u001b[0;36m  File \u001b[0;32m\"<ipython-input-4-f682477b2401>\"\u001b[0;36m, line \u001b[0;32m1\u001b[0m\n\u001b[0;31m    Area1 = $AREA1$\u001b[0m\n\u001b[0m            ^\u001b[0m\n\u001b[0;31mSyntaxError\u001b[0m\u001b[0;31m:\u001b[0m invalid syntax\n"
     ]
    }
   ],
   "source": [
    "Area1 = $AREA1$\n",
    "Area2 = $AREA2$\n",
    "genelist = $GENELIST$\n",
    "threshold = $THRESHOLD$\n",
    "n_rep = $REPS$"
   ]
  },
  {
   "cell_type": "markdown",
   "metadata": {},
   "source": [
    "Set up individual thresholds if wished:"
   ]
  },
  {
   "cell_type": "code",
   "execution_count": null,
   "metadata": {},
   "outputs": [],
   "source": [
    "thresholds_area1 = ones(len(Area1)) * threshold\n",
    "thresholds_area2 = ones(len(Area2)) * threshold\n",
    "\n",
    "# "
   ]
  },
  {
   "cell_type": "markdown",
   "metadata": {},
   "source": [
    "Retrieve regions for Area 1:"
   ]
  },
  {
   "cell_type": "code",
   "execution_count": null,
   "metadata": {},
   "outputs": [],
   "source": [
    "#regions.get_probability_map_for_region(Region('Area_Fp1', 'colin', 'JuBrain Cytoarchitectonic Atlas'), Hemisphere.LEFT.value, 0.2)\n",
    "area1_rois = []\n",
    "\n",
    "for region in Area1:\n",
    "    area2_rois.append(ebrains-atlascore.regions.regions.get_probability_map_for_region(Region(region[\"name\"], 'colin', 'JuBrain Cytoarchitectonic Atlas'), Hemisphere.LEFT.value, 0.2))"
   ]
  },
  {
   "cell_type": "markdown",
   "metadata": {},
   "source": [
    "Retrieve regions for Area 2:"
   ]
  },
  {
   "cell_type": "code",
   "execution_count": null,
   "metadata": {},
   "outputs": [],
   "source": [
    "area2_rois = []\n",
    "\n",
    "for region in Area2:\n",
    "    area2_rois.append(ebrains-atlascore.regions.get_region_by_name('colin', 'JuBrain Cytoarchitectonic Atlas', region))"
   ]
  },
  {
   "cell_type": "markdown",
   "metadata": {},
   "source": [
    "Merge regions for area 1 and area 2 masks:"
   ]
  },
  {
   "cell_type": "code",
   "execution_count": null,
   "metadata": {},
   "outputs": [],
   "source": [
    "area1_mask = merge_list(area1_rois, threshold_area1)\n",
    "area2_mask = merge_list(area2_rois, threshold_area2)"
   ]
  },
  {
   "cell_type": "code",
   "execution_count": null,
   "metadata": {},
   "outputs": [],
   "source": [
    "analysis = PyjugexAnalysis(\n",
    "  n_rep=1000,\n",
    "  gene_list=gene_list,\n",
    "  roi1 = hoc1_nii,\n",
    "  roi2 = hoc2_nii\n",
    ")"
   ]
  },
  {
   "cell_type": "code",
   "execution_count": null,
   "metadata": {},
   "outputs": [],
   "source": [
    "analysis.differential_analysis() # Go grab a coffee"
   ]
  },
  {
   "cell_type": "code",
   "execution_count": null,
   "metadata": {},
   "outputs": [],
   "source": [
    "print(analysis.anova.result)"
   ]
  }
 ],
 "metadata": {
  "kernelspec": {
   "display_name": "myenv",
   "language": "python",
   "name": "myenv"
  },
  "language_info": {
   "codemirror_mode": {
    "name": "ipython",
    "version": 3
   },
   "file_extension": ".py",
   "mimetype": "text/x-python",
   "name": "python",
   "nbconvert_exporter": "python",
   "pygments_lexer": "ipython3",
   "version": "3.8.1"
  }
 },
 "nbformat": 4,
 "nbformat_minor": 4
}
