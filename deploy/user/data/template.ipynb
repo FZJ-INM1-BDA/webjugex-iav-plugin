{
 "cells": [
  {
   "cell_type": "markdown",
   "metadata": {},
   "source": [
    "# Perform a differential gene expression analysis with brainscapes\n",
    "\n",
    "The DifferentialGeneExpression class compute differential gene expresssion in two different brain regions, following the JuGEx algorithm described in the following publication:\n",
    "\n",
    "> *Sebastian Bludau, Thomas W. Mühleisen, Simon B. Eickhoff, Michael J. Hawrylycz, Sven Cichon, Katrin Amunts. Integration of transcriptomic and cytoarchitectonic data implicates a role for MAOA and TAC1 in the limbic-cortical network. 2018, Brain Structure and Function. https://doi.org/10.1007/s00429-018-1620-6*\n",
    "      \n",
    "In brainscapes, the object is initialized with a brainscapes atlas object. It will check if the parcellation selected in the atlas is suitable for performing the analysis, which includes to verify that the given atlas object provides maps in the MNI ICBM 152 space. The analysis is configured by specifying some candidate genes of interest, and two regions of interest (ROI) specified by brain area names that the atlas object can resolve. Note that tha brainscapes atlas class does fuzzy string matching to resolve region names, so you can try with a simple name of the regions to see if brainscapes interprets them.  Also, gene names can easily be looked up and autocompleted in brainscapes.features.gene_names. \n",
    "\n",
    "For the gene expression data, brainscapes accesses the Allen Brain Atlas API (© 2015 Allen Institute for Brain Science. Allen Brain Atlas API. Available from: brain-map.org/api/index.html). "
   ]
  },
  {
   "cell_type": "markdown",
   "metadata": {},
   "source": [
    "## Preparation\n",
    "\n",
    "We install the brainscapes library, and set an EBRAINS Knowledge Graph authentication token the we can request  [here](https://nexus-iam.humanbrainproject.org/v0/oauth2/authorize) after creating an HBP account."
   ]
  },
  {
   "cell_type": "code",
   "execution_count": null,
   "metadata": {},
   "outputs": [],
   "source": [
    "!pip install brainscapes\n",
    "from os import environ\n",
    "environ['HBP_AUTH_TOKEN'] = \"<<<Paste your HBP auth token here>>>\"\n",
    "\n",
    "# Set cache dir. If unset, will use default user tempdir as returned by the appdirs module\n",
    "# environ['BRAINSCAPES_CACHEDIR'] = \"<<<Cache dir>>>\""
   ]
  },
  {
   "cell_type": "markdown",
   "metadata": {},
   "source": [
    "## Instantiate human brain atlas with Julich-Brain cytoarchitectonic maps\n",
    "\n",
    "We instantiate the human atlas, and tell it to prefer thresholded continous maps over labelled regions in the discrete parcellation map. For the Julich-Brain parcellation, this mean that it will use thresholded probability maps, if available."
   ]
  },
  {
   "cell_type": "code",
   "execution_count": null,
   "metadata": {},
   "outputs": [],
   "source": [
    "import brainscapes as bs\n",
    "bs.logger.setLevel(\"INFO\") # we want to see some messages!"
   ]
  },
  {
   "cell_type": "code",
   "execution_count": null,
   "metadata": {},
   "outputs": [],
   "source": [
    "atlas = bs.atlases.MULTILEVEL_HUMAN_ATLAS\n",
    "\n",
    "# next line is optional - cytoarchitectonic maps are selected by default\n",
    "atlas.select_parcellation(bs.parcellations.JULICH_BRAIN_PROBABILISTIC_CYTOARCHITECTONIC_MAPS_V2_5_)\n",
    "\n",
    "# as in the original JuGEx, we prefer thresholded probability maps \n",
    "# over the labelled region in the maximum probability map\n",
    "\n",
    "threshold = $THRESHOLD$\n",
    "atlas.enable_continuous_map_thresholding(threshold)"
   ]
  },
  {
   "cell_type": "markdown",
   "metadata": {},
   "source": [
    "## Setup and run the experiment"
   ]
  },
  {
   "cell_type": "code",
   "execution_count": null,
   "metadata": {},
   "outputs": [],
   "source": [
    "candidate_regions = [$AREA1$, $AREA2$]\n",
    "candidate_genes = $GENELIST$\n",
    "n_rep = $REPS$"
   ]
  },
  {
   "cell_type": "markdown",
   "metadata": {},
   "source": [
    "Configuring the experiment is now just a matter of a few lines of code:"
   ]
  },
  {
   "cell_type": "code",
   "execution_count": null,
   "metadata": {},
   "outputs": [],
   "source": [
    "jugex = bs.analysis.DifferentialGeneExpression(atlas)\n",
    "jugex.add_candidate_genes(candidate_genes)\n",
    "jugex.define_roi1(candidate_regions[0])\n",
    "jugex.define_roi2(candidate_regions[1])"
   ]
  },
  {
   "cell_type": "markdown",
   "metadata": {},
   "source": [
    "We are now setup to run the analysis."
   ]
  },
  {
   "cell_type": "code",
   "execution_count": null,
   "metadata": {},
   "outputs": [],
   "source": [
    "result = jugex.run(permutations=n_rep)"
   ]
  },
  {
   "cell_type": "code",
   "execution_count": null,
   "metadata": {},
   "outputs": [],
   "source": [
    "print(result['p-values'])"
   ]
  },
  {
   "cell_type": "markdown",
   "metadata": {},
   "source": [
    "## Look at the anatomical positions of the samples in MNI space"
   ]
  },
  {
   "cell_type": "markdown",
   "metadata": {},
   "source": [
    "Let's have a look at the sample positions that have been found in the Allen atlas. Since we configured brainscapes to prefer thresholded continuous maps for region filtering over the simplified parcellation map, we also plot the probability maps here."
   ]
  },
  {
   "cell_type": "code",
   "execution_count": null,
   "metadata": {},
   "outputs": [],
   "source": [
    "from nilearn import plotting\n",
    "import numpy as np\n",
    "\n",
    "for region in candidate_regions:\n",
    "    samples = jugex.get_samples(region)\n",
    "    atlas.select_region(region)\n",
    "    pmap = atlas.selected_region.get_specific_map(\n",
    "        bs.spaces.MNI_152_ICBM_2009C_NONLINEAR_ASYMMETRIC)    \n",
    "    # we could have also used the simple parcellation map mask as follows:\n",
    "    # mask = atlas.get_mask(bs.spaces.MNI_152_ICBM_2009C_NONLINEAR_ASYMMETRIC)\n",
    "    display = plotting.plot_roi(pmap,cmap='jet')\n",
    "    display.add_markers([s['mnicoord'] for s in samples.values()])"
   ]
  },
  {
   "cell_type": "markdown",
   "metadata": {},
   "source": [
    "The aggregated input parameters can be stored to disk."
   ]
  },
  {
   "cell_type": "code",
   "execution_count": null,
   "metadata": {},
   "outputs": [],
   "source": [
    "jugex.save('jugex_{}_{}.json'.format(\n",
    "    \"_\".join(candidate_regions),\n",
    "    \"_\".join(candidate_genes) ))"
   ]
  }
 ],
 "metadata": {
  "kernelspec": {
   "display_name": "Python 3",
   "language": "python",
   "name": "python3"
  },
  "language_info": {
   "codemirror_mode": {
    "name": "ipython",
    "version": 3
   },
   "file_extension": ".py",
   "mimetype": "text/x-python",
   "name": "python",
   "nbconvert_exporter": "python",
   "pygments_lexer": "ipython3",
   "version": "3.9.1"
  }
 },
 "nbformat": 4,
 "nbformat_minor": 4
}