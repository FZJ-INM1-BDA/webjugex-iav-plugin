{
 "cells": [
  {
   "cell_type": "markdown",
   "metadata": {},
   "source": [
    "Install necessary python modules"
   ]
  },
  {
   "cell_type": "code",
   "execution_count": null,
   "metadata": {},
   "outputs": [],
   "source": [
    "!pip install pyjugex\n",
    "!pip install nibabel\n",
    "!pip install ebrains-atlascore"
   ]
  },
  {
   "cell_type": "markdown",
   "metadata": {},
   "source": [
    "Import the modules"
   ]
  },
  {
   "cell_type": "code",
   "execution_count": null,
   "metadata": {},
   "outputs": [],
   "source": [
    "from pyjugex import PyjugexAnalysis\n",
    "import nibabel as nib\n",
    "import pyjugex\n",
    "import ebrains_atlascore"
   ]
  },
  {
   "cell_type": "markdown",
   "metadata": {},
   "source": [
    "Set up function to merge regions of interest"
   ]
  },
  {
   "cell_type": "code",
   "execution_count": 5,
   "metadata": {},
   "outputs": [],
   "source": [
    "def threshold_function(image_data, threshold):\n",
    "    image_data[numpy.where(image_data < float(threshold))] = 0\n",
    "    return image_data\n",
    "\n",
    "def merge_list(areaList, threshold):\n",
    "    combined_mask = 0\n",
    "    \n",
    "    for area in areaList:\n",
    "        image_mask = threshold_function(image_data, threshold) != 0\n",
    "\n",
    "        combined_mask = numpy.logical_or(combined_mask, image_mask)\n",
    "    \n",
    "    return combined_mask"
   ]
  },
  {
   "cell_type": "markdown",
   "metadata": {},
   "source": [
    "Parameters selected by you:"
   ]
  },
  {
   "cell_type": "code",
   "execution_count": null,
   "metadata": {},
   "outputs": [],
   "source": [
    "Area1 = $AREA1$\n",
    "Area2 = $AREA2$\n",
    "genelist = $GENELIST$\n",
    "threshold = $THRESHOLD$\n",
    "n_rep = $REPS$\n"
   ]
  },
  {
   "cell_type": "markdown",
   "metadata": {},
   "source": [
    "Retrieve regions for Area 1:"
   ]
  },
  {
   "cell_type": "code",
   "execution_count": null,
   "metadata": {},
   "outputs": [],
   "source": [
    "area1_rois = []\n",
    "\n",
    "for region in Area1:\n",
    "    area2_rois.append(ebrains-atlascore.regions.get_region_by_name('colin', 'JuBrain Cytoarchitectonic Atlas', region))"
   ]
  },
  {
   "cell_type": "markdown",
   "metadata": {},
   "source": [
    "Retrieve regions for Area 2:"
   ]
  },
  {
   "cell_type": "code",
   "execution_count": null,
   "metadata": {},
   "outputs": [],
   "source": [
    "area2_rois = []\n",
    "\n",
    "for region in Area2:\n",
    "    area2_rois.append(ebrains-atlascore.regions.get_region_by_name('colin', 'JuBrain Cytoarchitectonic Atlas', region))"
   ]
  },
  {
   "cell_type": "code",
   "execution_count": null,
   "metadata": {},
   "outputs": [],
   "source": [
    "hoc1_body = {\n",
    "  \"areas\": $$AREA1$$,\n",
    "  \"threshold\": 0.2\n",
    "}\n",
    "with pyjugex.util.get_pmap(url=f'{pmap_service_url}/multimerge_v2', json=hoc1_body) as resp, open(f'./{roi1_fname}', 'wb') as out_file:\n",
    "    out_file.write(resp.content)"
   ]
  },
  {
   "cell_type": "code",
   "execution_count": null,
   "metadata": {},
   "outputs": [],
   "source": [
    "hoc2_body = {\n",
    "  \"areas\": $$AREA2$$,\n",
    "  \"threshold\": 0.2\n",
    "}\n",
    "with pyjugex.util.get_pmap(url=f'{pmap_service_url}/multimerge_v2', json=hoc2_body) as resp, open(f'./{roi2_fname}', 'wb') as out_file:\n",
    "    out_file.write(resp.content)"
   ]
  },
  {
   "cell_type": "code",
   "execution_count": null,
   "metadata": {},
   "outputs": [],
   "source": [
    "hoc1_nii = nib.load(f'./{roi1_fname}')\n",
    "hoc2_nii = nib.load(f'./{roi2_fname}')\n",
    "\n",
    "gene_list=$$GENELIST$$\n",
    "n_rep = 1000"
   ]
  },
  {
   "cell_type": "code",
   "execution_count": null,
   "metadata": {},
   "outputs": [],
   "source": [
    "analysis = PyjugexAnalysis(\n",
    "  n_rep=1000,\n",
    "  gene_list=gene_list,\n",
    "  roi1 = hoc1_nii,\n",
    "  roi2 = hoc2_nii\n",
    ")"
   ]
  },
  {
   "cell_type": "code",
   "execution_count": null,
   "metadata": {},
   "outputs": [],
   "source": [
    "analysis.differential_analysis() # Go grab a coffee"
   ]
  },
  {
   "cell_type": "code",
   "execution_count": null,
   "metadata": {},
   "outputs": [],
   "source": [
    "print(analysis.anova.result)"
   ]
  }
 ],
 "metadata": {
  "kernelspec": {
   "display_name": "Python 3",
   "language": "python",
   "name": "python3"
  },
  "language_info": {
   "codemirror_mode": {
    "name": "ipython",
    "version": 3
   },
   "file_extension": ".py",
   "mimetype": "text/x-python",
   "name": "python",
   "nbconvert_exporter": "python",
   "pygments_lexer": "ipython3",
   "version": "3.8.1"
  }
 },
 "nbformat": 4,
 "nbformat_minor": 4
}
